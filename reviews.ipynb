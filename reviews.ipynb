{
  "nbformat": 4,
  "nbformat_minor": 0,
  "metadata": {
    "colab": {
      "provenance": [],
      "authorship_tag": "ABX9TyM6SuU3Idnj7fzpzMNKfm+k",
      "include_colab_link": true
    },
    "kernelspec": {
      "name": "python3",
      "display_name": "Python 3"
    },
    "language_info": {
      "name": "python"
    }
  },
  "cells": [
    {
      "cell_type": "markdown",
      "metadata": {
        "id": "view-in-github",
        "colab_type": "text"
      },
      "source": [
        "<a href=\"https://colab.research.google.com/github/ndungek/Threads-Reviews-Sentiment-Analysis/blob/main/reviews.ipynb\" target=\"_parent\"><img src=\"https://colab.research.google.com/assets/colab-badge.svg\" alt=\"Open In Colab\"/></a>"
      ]
    },
    {
      "cell_type": "markdown",
      "source": [
        "# **THREADS REVIEWS SENTIMENT ANALYSIS:**\n",
        "\n",
        "\n",
        "---\n",
        "\n",
        "\n",
        "*Maureen Kitang'a*\n",
        "\n",
        "## Abstract\n",
        "In the bustling world of social media and messaging apps, Threads emerges as a fresh contender, stepping into the limelight in July. As it embarks on its journey in the ever-evolving landscape, we set out to decipher the sentiments of Threads app users through a comprehensive sentiment analysis project.\n",
        "\n",
        "With a relatively small training dataset consisting of just over 5900 examples, we faced the challenge of skewed data. However, our goal was clear: predict sentiment – be it positive, negative, or neutral – with precision and insight."
      ],
      "metadata": {
        "id": "ymb26gUjV56C"
      }
    },
    {
      "cell_type": "code",
      "execution_count": 130,
      "metadata": {
        "colab": {
          "base_uri": "https://localhost:8080/"
        },
        "id": "ks3EcJINh7PM",
        "outputId": "7db70556-c441-4655-bdf1-5907e20873f6"
      },
      "outputs": [
        {
          "output_type": "stream",
          "name": "stderr",
          "text": [
            "[nltk_data] Downloading package punkt to /root/nltk_data...\n",
            "[nltk_data]   Package punkt is already up-to-date!\n",
            "[nltk_data] Downloading package stopwords to /root/nltk_data...\n",
            "[nltk_data]   Package stopwords is already up-to-date!\n",
            "[nltk_data] Downloading package wordnet to /root/nltk_data...\n",
            "[nltk_data]   Package wordnet is already up-to-date!\n"
          ]
        }
      ],
      "source": [
        "#importing libraries\n",
        "import re\n",
        "import pandas as pd\n",
        "import numpy as np\n",
        "import seaborn as sns\n",
        "import matplotlib.pyplot as plt\n",
        "%matplotlib inline\n",
        "import string\n",
        "import warnings\n",
        "warnings.filterwarnings(action='ignore', category=FutureWarning)\n",
        "\n",
        "import nltk\n",
        "nltk.download('punkt')\n",
        "nltk.download('stopwords')\n",
        "nltk.download('wordnet')\n",
        "from nltk.stem import WordNetLemmatizer\n",
        "from nltk.tokenize import word_tokenize, sent_tokenize\n",
        "from nltk.corpus import stopwords\n",
        "from sklearn.feature_extraction.text import CountVectorizer, TfidfVectorizer\n",
        "from nltk import FreqDist"
      ]
    },
    {
      "cell_type": "code",
      "source": [
        "from google.colab import drive\n",
        "drive.mount('/content/drive')"
      ],
      "metadata": {
        "colab": {
          "base_uri": "https://localhost:8080/"
        },
        "id": "NQYD620FiPsY",
        "outputId": "0de13604-f5cb-41f0-9367-099127c5d586"
      },
      "execution_count": 131,
      "outputs": [
        {
          "output_type": "stream",
          "name": "stdout",
          "text": [
            "Drive already mounted at /content/drive; to attempt to forcibly remount, call drive.mount(\"/content/drive\", force_remount=True).\n"
          ]
        }
      ]
    },
    {
      "cell_type": "code",
      "source": [
        "import os\n",
        "\n",
        "folder_path = '/content/drive/My Drive/Threads-Reviews-Sentiment-Analysis'\n",
        "os.chdir(folder_path)"
      ],
      "metadata": {
        "id": "0u4rILidiZyQ"
      },
      "execution_count": 132,
      "outputs": []
    },
    {
      "cell_type": "code",
      "source": [
        "folder_contents = os.listdir()\n",
        "print(folder_contents)"
      ],
      "metadata": {
        "colab": {
          "base_uri": "https://localhost:8080/"
        },
        "id": "zyTUmCjoj1Bu",
        "outputId": "ebb12259-c821-43af-febb-12a205f6d20e"
      },
      "execution_count": 133,
      "outputs": [
        {
          "output_type": "stream",
          "name": "stdout",
          "text": [
            "['threads_reviews.csv', 'README.md', 'LICENSE', '.git']\n"
          ]
        }
      ]
    },
    {
      "cell_type": "code",
      "source": [
        "df = pd.read_csv(\"threads_reviews.csv\")\n",
        "\n",
        "df.head()"
      ],
      "metadata": {
        "colab": {
          "base_uri": "https://localhost:8080/",
          "height": 206
        },
        "id": "DcmpmOPVj4dP",
        "outputId": "bb5bab02-d259-4125-b48a-fdbeb2217f29"
      },
      "execution_count": 134,
      "outputs": [
        {
          "output_type": "execute_result",
          "data": {
            "text/plain": [
              "        source                      review_description  rating  \\\n",
              "0  Google Play  Very good app for Android phone and me       5   \n",
              "1  Google Play                                  Sl👍👍👍👍       5   \n",
              "2  Google Play                                Best app       5   \n",
              "3  Google Play                              Gatiya app       1   \n",
              "4  Google Play                                Lit bruv       5   \n",
              "\n",
              "        review_date  \n",
              "0  27-08-2023 10:31  \n",
              "1  27-08-2023 10:28  \n",
              "2   27-08-2023 9:47  \n",
              "3   27-08-2023 9:13  \n",
              "4   27-08-2023 9:00  "
            ],
            "text/html": [
              "\n",
              "  <div id=\"df-841f39ce-d55b-458b-9458-f1cd25cf0acf\" class=\"colab-df-container\">\n",
              "    <div>\n",
              "<style scoped>\n",
              "    .dataframe tbody tr th:only-of-type {\n",
              "        vertical-align: middle;\n",
              "    }\n",
              "\n",
              "    .dataframe tbody tr th {\n",
              "        vertical-align: top;\n",
              "    }\n",
              "\n",
              "    .dataframe thead th {\n",
              "        text-align: right;\n",
              "    }\n",
              "</style>\n",
              "<table border=\"1\" class=\"dataframe\">\n",
              "  <thead>\n",
              "    <tr style=\"text-align: right;\">\n",
              "      <th></th>\n",
              "      <th>source</th>\n",
              "      <th>review_description</th>\n",
              "      <th>rating</th>\n",
              "      <th>review_date</th>\n",
              "    </tr>\n",
              "  </thead>\n",
              "  <tbody>\n",
              "    <tr>\n",
              "      <th>0</th>\n",
              "      <td>Google Play</td>\n",
              "      <td>Very good app for Android phone and me</td>\n",
              "      <td>5</td>\n",
              "      <td>27-08-2023 10:31</td>\n",
              "    </tr>\n",
              "    <tr>\n",
              "      <th>1</th>\n",
              "      <td>Google Play</td>\n",
              "      <td>Sl👍👍👍👍</td>\n",
              "      <td>5</td>\n",
              "      <td>27-08-2023 10:28</td>\n",
              "    </tr>\n",
              "    <tr>\n",
              "      <th>2</th>\n",
              "      <td>Google Play</td>\n",
              "      <td>Best app</td>\n",
              "      <td>5</td>\n",
              "      <td>27-08-2023 9:47</td>\n",
              "    </tr>\n",
              "    <tr>\n",
              "      <th>3</th>\n",
              "      <td>Google Play</td>\n",
              "      <td>Gatiya app</td>\n",
              "      <td>1</td>\n",
              "      <td>27-08-2023 9:13</td>\n",
              "    </tr>\n",
              "    <tr>\n",
              "      <th>4</th>\n",
              "      <td>Google Play</td>\n",
              "      <td>Lit bruv</td>\n",
              "      <td>5</td>\n",
              "      <td>27-08-2023 9:00</td>\n",
              "    </tr>\n",
              "  </tbody>\n",
              "</table>\n",
              "</div>\n",
              "    <div class=\"colab-df-buttons\">\n",
              "\n",
              "  <div class=\"colab-df-container\">\n",
              "    <button class=\"colab-df-convert\" onclick=\"convertToInteractive('df-841f39ce-d55b-458b-9458-f1cd25cf0acf')\"\n",
              "            title=\"Convert this dataframe to an interactive table.\"\n",
              "            style=\"display:none;\">\n",
              "\n",
              "  <svg xmlns=\"http://www.w3.org/2000/svg\" height=\"24px\" viewBox=\"0 -960 960 960\">\n",
              "    <path d=\"M120-120v-720h720v720H120Zm60-500h600v-160H180v160Zm220 220h160v-160H400v160Zm0 220h160v-160H400v160ZM180-400h160v-160H180v160Zm440 0h160v-160H620v160ZM180-180h160v-160H180v160Zm440 0h160v-160H620v160Z\"/>\n",
              "  </svg>\n",
              "    </button>\n",
              "\n",
              "  <style>\n",
              "    .colab-df-container {\n",
              "      display:flex;\n",
              "      gap: 12px;\n",
              "    }\n",
              "\n",
              "    .colab-df-convert {\n",
              "      background-color: #E8F0FE;\n",
              "      border: none;\n",
              "      border-radius: 50%;\n",
              "      cursor: pointer;\n",
              "      display: none;\n",
              "      fill: #1967D2;\n",
              "      height: 32px;\n",
              "      padding: 0 0 0 0;\n",
              "      width: 32px;\n",
              "    }\n",
              "\n",
              "    .colab-df-convert:hover {\n",
              "      background-color: #E2EBFA;\n",
              "      box-shadow: 0px 1px 2px rgba(60, 64, 67, 0.3), 0px 1px 3px 1px rgba(60, 64, 67, 0.15);\n",
              "      fill: #174EA6;\n",
              "    }\n",
              "\n",
              "    .colab-df-buttons div {\n",
              "      margin-bottom: 4px;\n",
              "    }\n",
              "\n",
              "    [theme=dark] .colab-df-convert {\n",
              "      background-color: #3B4455;\n",
              "      fill: #D2E3FC;\n",
              "    }\n",
              "\n",
              "    [theme=dark] .colab-df-convert:hover {\n",
              "      background-color: #434B5C;\n",
              "      box-shadow: 0px 1px 3px 1px rgba(0, 0, 0, 0.15);\n",
              "      filter: drop-shadow(0px 1px 2px rgba(0, 0, 0, 0.3));\n",
              "      fill: #FFFFFF;\n",
              "    }\n",
              "  </style>\n",
              "\n",
              "    <script>\n",
              "      const buttonEl =\n",
              "        document.querySelector('#df-841f39ce-d55b-458b-9458-f1cd25cf0acf button.colab-df-convert');\n",
              "      buttonEl.style.display =\n",
              "        google.colab.kernel.accessAllowed ? 'block' : 'none';\n",
              "\n",
              "      async function convertToInteractive(key) {\n",
              "        const element = document.querySelector('#df-841f39ce-d55b-458b-9458-f1cd25cf0acf');\n",
              "        const dataTable =\n",
              "          await google.colab.kernel.invokeFunction('convertToInteractive',\n",
              "                                                    [key], {});\n",
              "        if (!dataTable) return;\n",
              "\n",
              "        const docLinkHtml = 'Like what you see? Visit the ' +\n",
              "          '<a target=\"_blank\" href=https://colab.research.google.com/notebooks/data_table.ipynb>data table notebook</a>'\n",
              "          + ' to learn more about interactive tables.';\n",
              "        element.innerHTML = '';\n",
              "        dataTable['output_type'] = 'display_data';\n",
              "        await google.colab.output.renderOutput(dataTable, element);\n",
              "        const docLink = document.createElement('div');\n",
              "        docLink.innerHTML = docLinkHtml;\n",
              "        element.appendChild(docLink);\n",
              "      }\n",
              "    </script>\n",
              "  </div>\n",
              "\n",
              "\n",
              "<div id=\"df-636e8fb2-da6c-4820-8bf1-184745548318\">\n",
              "  <button class=\"colab-df-quickchart\" onclick=\"quickchart('df-636e8fb2-da6c-4820-8bf1-184745548318')\"\n",
              "            title=\"Suggest charts.\"\n",
              "            style=\"display:none;\">\n",
              "\n",
              "<svg xmlns=\"http://www.w3.org/2000/svg\" height=\"24px\"viewBox=\"0 0 24 24\"\n",
              "     width=\"24px\">\n",
              "    <g>\n",
              "        <path d=\"M19 3H5c-1.1 0-2 .9-2 2v14c0 1.1.9 2 2 2h14c1.1 0 2-.9 2-2V5c0-1.1-.9-2-2-2zM9 17H7v-7h2v7zm4 0h-2V7h2v10zm4 0h-2v-4h2v4z\"/>\n",
              "    </g>\n",
              "</svg>\n",
              "  </button>\n",
              "\n",
              "<style>\n",
              "  .colab-df-quickchart {\n",
              "      --bg-color: #E8F0FE;\n",
              "      --fill-color: #1967D2;\n",
              "      --hover-bg-color: #E2EBFA;\n",
              "      --hover-fill-color: #174EA6;\n",
              "      --disabled-fill-color: #AAA;\n",
              "      --disabled-bg-color: #DDD;\n",
              "  }\n",
              "\n",
              "  [theme=dark] .colab-df-quickchart {\n",
              "      --bg-color: #3B4455;\n",
              "      --fill-color: #D2E3FC;\n",
              "      --hover-bg-color: #434B5C;\n",
              "      --hover-fill-color: #FFFFFF;\n",
              "      --disabled-bg-color: #3B4455;\n",
              "      --disabled-fill-color: #666;\n",
              "  }\n",
              "\n",
              "  .colab-df-quickchart {\n",
              "    background-color: var(--bg-color);\n",
              "    border: none;\n",
              "    border-radius: 50%;\n",
              "    cursor: pointer;\n",
              "    display: none;\n",
              "    fill: var(--fill-color);\n",
              "    height: 32px;\n",
              "    padding: 0;\n",
              "    width: 32px;\n",
              "  }\n",
              "\n",
              "  .colab-df-quickchart:hover {\n",
              "    background-color: var(--hover-bg-color);\n",
              "    box-shadow: 0 1px 2px rgba(60, 64, 67, 0.3), 0 1px 3px 1px rgba(60, 64, 67, 0.15);\n",
              "    fill: var(--button-hover-fill-color);\n",
              "  }\n",
              "\n",
              "  .colab-df-quickchart-complete:disabled,\n",
              "  .colab-df-quickchart-complete:disabled:hover {\n",
              "    background-color: var(--disabled-bg-color);\n",
              "    fill: var(--disabled-fill-color);\n",
              "    box-shadow: none;\n",
              "  }\n",
              "\n",
              "  .colab-df-spinner {\n",
              "    border: 2px solid var(--fill-color);\n",
              "    border-color: transparent;\n",
              "    border-bottom-color: var(--fill-color);\n",
              "    animation:\n",
              "      spin 1s steps(1) infinite;\n",
              "  }\n",
              "\n",
              "  @keyframes spin {\n",
              "    0% {\n",
              "      border-color: transparent;\n",
              "      border-bottom-color: var(--fill-color);\n",
              "      border-left-color: var(--fill-color);\n",
              "    }\n",
              "    20% {\n",
              "      border-color: transparent;\n",
              "      border-left-color: var(--fill-color);\n",
              "      border-top-color: var(--fill-color);\n",
              "    }\n",
              "    30% {\n",
              "      border-color: transparent;\n",
              "      border-left-color: var(--fill-color);\n",
              "      border-top-color: var(--fill-color);\n",
              "      border-right-color: var(--fill-color);\n",
              "    }\n",
              "    40% {\n",
              "      border-color: transparent;\n",
              "      border-right-color: var(--fill-color);\n",
              "      border-top-color: var(--fill-color);\n",
              "    }\n",
              "    60% {\n",
              "      border-color: transparent;\n",
              "      border-right-color: var(--fill-color);\n",
              "    }\n",
              "    80% {\n",
              "      border-color: transparent;\n",
              "      border-right-color: var(--fill-color);\n",
              "      border-bottom-color: var(--fill-color);\n",
              "    }\n",
              "    90% {\n",
              "      border-color: transparent;\n",
              "      border-bottom-color: var(--fill-color);\n",
              "    }\n",
              "  }\n",
              "</style>\n",
              "\n",
              "  <script>\n",
              "    async function quickchart(key) {\n",
              "      const quickchartButtonEl =\n",
              "        document.querySelector('#' + key + ' button');\n",
              "      quickchartButtonEl.disabled = true;  // To prevent multiple clicks.\n",
              "      quickchartButtonEl.classList.add('colab-df-spinner');\n",
              "      try {\n",
              "        const charts = await google.colab.kernel.invokeFunction(\n",
              "            'suggestCharts', [key], {});\n",
              "      } catch (error) {\n",
              "        console.error('Error during call to suggestCharts:', error);\n",
              "      }\n",
              "      quickchartButtonEl.classList.remove('colab-df-spinner');\n",
              "      quickchartButtonEl.classList.add('colab-df-quickchart-complete');\n",
              "    }\n",
              "    (() => {\n",
              "      let quickchartButtonEl =\n",
              "        document.querySelector('#df-636e8fb2-da6c-4820-8bf1-184745548318 button');\n",
              "      quickchartButtonEl.style.display =\n",
              "        google.colab.kernel.accessAllowed ? 'block' : 'none';\n",
              "    })();\n",
              "  </script>\n",
              "</div>\n",
              "    </div>\n",
              "  </div>\n"
            ]
          },
          "metadata": {},
          "execution_count": 134
        }
      ]
    },
    {
      "cell_type": "code",
      "source": [
        "def df_shape(df, ds_name):\n",
        "    print(f\"The {ds_name} dataset has {df.shape[0]} rows and {df.shape[1]}\")\n",
        "\n",
        "df_shape(df, \"Threads Reviews\")"
      ],
      "metadata": {
        "colab": {
          "base_uri": "https://localhost:8080/"
        },
        "id": "1YwTpDd3j8q0",
        "outputId": "3614b724-ffba-4333-f418-cb8370521a4d"
      },
      "execution_count": 135,
      "outputs": [
        {
          "output_type": "stream",
          "name": "stdout",
          "text": [
            "The Threads Reviews dataset has 40435 rows and 4\n"
          ]
        }
      ]
    },
    {
      "cell_type": "code",
      "source": [
        "def df_info(df, ds_name):\n",
        "    print(f\"The {ds_name} dataset info:\\n\")\n",
        "    print(df.info())\n",
        "\n",
        "df_info(df, \"Threads Reviews\")"
      ],
      "metadata": {
        "colab": {
          "base_uri": "https://localhost:8080/"
        },
        "id": "p_OntJf0lyqY",
        "outputId": "3928069a-a253-4fd1-f31e-b76abd75b40a"
      },
      "execution_count": 136,
      "outputs": [
        {
          "output_type": "stream",
          "name": "stdout",
          "text": [
            "The Threads Reviews dataset info:\n",
            "\n",
            "<class 'pandas.core.frame.DataFrame'>\n",
            "RangeIndex: 40435 entries, 0 to 40434\n",
            "Data columns (total 4 columns):\n",
            " #   Column              Non-Null Count  Dtype \n",
            "---  ------              --------------  ----- \n",
            " 0   source              40435 non-null  object\n",
            " 1   review_description  40435 non-null  object\n",
            " 2   rating              40435 non-null  int64 \n",
            " 3   review_date         40435 non-null  object\n",
            "dtypes: int64(1), object(3)\n",
            "memory usage: 1.2+ MB\n",
            "None\n"
          ]
        }
      ]
    },
    {
      "cell_type": "code",
      "source": [
        "def check_missing(df, ds_name):\n",
        "    print(f\"Null Values in each col in the {ds_name} dataset:\\n\")\n",
        "    print(df.isnull().sum())\n",
        "\n",
        "check_missing(df, \"Threads Reviews\")"
      ],
      "metadata": {
        "colab": {
          "base_uri": "https://localhost:8080/"
        },
        "id": "v8IEylmGl-YL",
        "outputId": "055d1594-ca56-406b-f247-24d9f95dfa5a"
      },
      "execution_count": 137,
      "outputs": [
        {
          "output_type": "stream",
          "name": "stdout",
          "text": [
            "Null Values in each col in the Threads Reviews dataset:\n",
            "\n",
            "source                0\n",
            "review_description    0\n",
            "rating                0\n",
            "review_date           0\n",
            "dtype: int64\n"
          ]
        }
      ]
    },
    {
      "cell_type": "code",
      "source": [
        "def check_duplicates(df, ds_name):\n",
        "    print(f\"Duplicate Values in each col in the {ds_name} dataset:\\n\")\n",
        "    print(df.duplicated().sum())\n",
        "\n",
        "check_duplicates(df, \"Threads Reviews\")"
      ],
      "metadata": {
        "colab": {
          "base_uri": "https://localhost:8080/"
        },
        "id": "UGVX5owimRsd",
        "outputId": "03d129e6-1547-48f3-9164-298f35d7f4a1"
      },
      "execution_count": 138,
      "outputs": [
        {
          "output_type": "stream",
          "name": "stdout",
          "text": [
            "Duplicate Values in each col in the Threads Reviews dataset:\n",
            "\n",
            "95\n"
          ]
        }
      ]
    },
    {
      "cell_type": "code",
      "source": [
        "# handling the duplicates\n",
        "def remove_duplicated_rows(data):\n",
        "    \"\"\"Simple Function to remove duplicated rows\"\"\"\n",
        "    data.drop_duplicates(subset=None, keep=\"first\", inplace=True)\n",
        "    return data\n",
        "\n",
        "\n",
        "df = remove_duplicated_rows(df)"
      ],
      "metadata": {
        "id": "_wGy8kPX8n_V"
      },
      "execution_count": 139,
      "outputs": []
    },
    {
      "cell_type": "code",
      "source": [
        "#Display Unique val in each col\n",
        "def uni_vals(df, ds_name):\n",
        "    print(f\"The number of unique values in each column in {ds_name} dataset:\\n\")\n",
        "    print(df.nunique())\n",
        "\n",
        "uni_vals(df, \"Threads Reviews\")"
      ],
      "metadata": {
        "colab": {
          "base_uri": "https://localhost:8080/"
        },
        "id": "fXrmKzMBmkcz",
        "outputId": "3a51b696-982b-4b4a-d9e1-cd4307251b6b"
      },
      "execution_count": 140,
      "outputs": [
        {
          "output_type": "stream",
          "name": "stdout",
          "text": [
            "The number of unique values in each column in Threads Reviews dataset:\n",
            "\n",
            "source                    2\n",
            "review_description    32894\n",
            "rating                    5\n",
            "review_date           16742\n",
            "dtype: int64\n"
          ]
        }
      ]
    },
    {
      "cell_type": "code",
      "source": [
        "# changing data type of review_date\n",
        "df['review_date'] = pd.to_datetime(df['review_date'])\n",
        "df['review_date'].dtype"
      ],
      "metadata": {
        "colab": {
          "base_uri": "https://localhost:8080/"
        },
        "id": "cLmHu4qQn83_",
        "outputId": "9efccfa6-92d2-4297-e88d-1c81e538b369"
      },
      "execution_count": 141,
      "outputs": [
        {
          "output_type": "execute_result",
          "data": {
            "text/plain": [
              "dtype('<M8[ns]')"
            ]
          },
          "metadata": {},
          "execution_count": 141
        }
      ]
    },
    {
      "cell_type": "code",
      "source": [],
      "metadata": {
        "id": "jYyNFldtqWlg"
      },
      "execution_count": 141,
      "outputs": []
    },
    {
      "cell_type": "code",
      "source": [
        "# Create new 'date' and 'time' columns\n",
        "df['review_dates'] = df['review_date'].dt.date\n",
        "df['review_time'] = df['review_date'].dt.time\n",
        "\n",
        "# Drop the original 'review_date' column\n",
        "df.drop(columns=['review_date'], inplace=True)\n",
        "df.head()"
      ],
      "metadata": {
        "colab": {
          "base_uri": "https://localhost:8080/",
          "height": 206
        },
        "id": "GRZiDDrVo6EW",
        "outputId": "0b514f97-2ccf-473b-e355-fc56744de85a"
      },
      "execution_count": 142,
      "outputs": [
        {
          "output_type": "execute_result",
          "data": {
            "text/plain": [
              "        source                      review_description  rating review_dates  \\\n",
              "0  Google Play  Very good app for Android phone and me       5   2023-08-27   \n",
              "1  Google Play                                  Sl👍👍👍👍       5   2023-08-27   \n",
              "2  Google Play                                Best app       5   2023-08-27   \n",
              "3  Google Play                              Gatiya app       1   2023-08-27   \n",
              "4  Google Play                                Lit bruv       5   2023-08-27   \n",
              "\n",
              "  review_time  \n",
              "0    10:31:00  \n",
              "1    10:28:00  \n",
              "2    09:47:00  \n",
              "3    09:13:00  \n",
              "4    09:00:00  "
            ],
            "text/html": [
              "\n",
              "  <div id=\"df-4d9d6405-1e89-4e3f-95bb-2509cae8aede\" class=\"colab-df-container\">\n",
              "    <div>\n",
              "<style scoped>\n",
              "    .dataframe tbody tr th:only-of-type {\n",
              "        vertical-align: middle;\n",
              "    }\n",
              "\n",
              "    .dataframe tbody tr th {\n",
              "        vertical-align: top;\n",
              "    }\n",
              "\n",
              "    .dataframe thead th {\n",
              "        text-align: right;\n",
              "    }\n",
              "</style>\n",
              "<table border=\"1\" class=\"dataframe\">\n",
              "  <thead>\n",
              "    <tr style=\"text-align: right;\">\n",
              "      <th></th>\n",
              "      <th>source</th>\n",
              "      <th>review_description</th>\n",
              "      <th>rating</th>\n",
              "      <th>review_dates</th>\n",
              "      <th>review_time</th>\n",
              "    </tr>\n",
              "  </thead>\n",
              "  <tbody>\n",
              "    <tr>\n",
              "      <th>0</th>\n",
              "      <td>Google Play</td>\n",
              "      <td>Very good app for Android phone and me</td>\n",
              "      <td>5</td>\n",
              "      <td>2023-08-27</td>\n",
              "      <td>10:31:00</td>\n",
              "    </tr>\n",
              "    <tr>\n",
              "      <th>1</th>\n",
              "      <td>Google Play</td>\n",
              "      <td>Sl👍👍👍👍</td>\n",
              "      <td>5</td>\n",
              "      <td>2023-08-27</td>\n",
              "      <td>10:28:00</td>\n",
              "    </tr>\n",
              "    <tr>\n",
              "      <th>2</th>\n",
              "      <td>Google Play</td>\n",
              "      <td>Best app</td>\n",
              "      <td>5</td>\n",
              "      <td>2023-08-27</td>\n",
              "      <td>09:47:00</td>\n",
              "    </tr>\n",
              "    <tr>\n",
              "      <th>3</th>\n",
              "      <td>Google Play</td>\n",
              "      <td>Gatiya app</td>\n",
              "      <td>1</td>\n",
              "      <td>2023-08-27</td>\n",
              "      <td>09:13:00</td>\n",
              "    </tr>\n",
              "    <tr>\n",
              "      <th>4</th>\n",
              "      <td>Google Play</td>\n",
              "      <td>Lit bruv</td>\n",
              "      <td>5</td>\n",
              "      <td>2023-08-27</td>\n",
              "      <td>09:00:00</td>\n",
              "    </tr>\n",
              "  </tbody>\n",
              "</table>\n",
              "</div>\n",
              "    <div class=\"colab-df-buttons\">\n",
              "\n",
              "  <div class=\"colab-df-container\">\n",
              "    <button class=\"colab-df-convert\" onclick=\"convertToInteractive('df-4d9d6405-1e89-4e3f-95bb-2509cae8aede')\"\n",
              "            title=\"Convert this dataframe to an interactive table.\"\n",
              "            style=\"display:none;\">\n",
              "\n",
              "  <svg xmlns=\"http://www.w3.org/2000/svg\" height=\"24px\" viewBox=\"0 -960 960 960\">\n",
              "    <path d=\"M120-120v-720h720v720H120Zm60-500h600v-160H180v160Zm220 220h160v-160H400v160Zm0 220h160v-160H400v160ZM180-400h160v-160H180v160Zm440 0h160v-160H620v160ZM180-180h160v-160H180v160Zm440 0h160v-160H620v160Z\"/>\n",
              "  </svg>\n",
              "    </button>\n",
              "\n",
              "  <style>\n",
              "    .colab-df-container {\n",
              "      display:flex;\n",
              "      gap: 12px;\n",
              "    }\n",
              "\n",
              "    .colab-df-convert {\n",
              "      background-color: #E8F0FE;\n",
              "      border: none;\n",
              "      border-radius: 50%;\n",
              "      cursor: pointer;\n",
              "      display: none;\n",
              "      fill: #1967D2;\n",
              "      height: 32px;\n",
              "      padding: 0 0 0 0;\n",
              "      width: 32px;\n",
              "    }\n",
              "\n",
              "    .colab-df-convert:hover {\n",
              "      background-color: #E2EBFA;\n",
              "      box-shadow: 0px 1px 2px rgba(60, 64, 67, 0.3), 0px 1px 3px 1px rgba(60, 64, 67, 0.15);\n",
              "      fill: #174EA6;\n",
              "    }\n",
              "\n",
              "    .colab-df-buttons div {\n",
              "      margin-bottom: 4px;\n",
              "    }\n",
              "\n",
              "    [theme=dark] .colab-df-convert {\n",
              "      background-color: #3B4455;\n",
              "      fill: #D2E3FC;\n",
              "    }\n",
              "\n",
              "    [theme=dark] .colab-df-convert:hover {\n",
              "      background-color: #434B5C;\n",
              "      box-shadow: 0px 1px 3px 1px rgba(0, 0, 0, 0.15);\n",
              "      filter: drop-shadow(0px 1px 2px rgba(0, 0, 0, 0.3));\n",
              "      fill: #FFFFFF;\n",
              "    }\n",
              "  </style>\n",
              "\n",
              "    <script>\n",
              "      const buttonEl =\n",
              "        document.querySelector('#df-4d9d6405-1e89-4e3f-95bb-2509cae8aede button.colab-df-convert');\n",
              "      buttonEl.style.display =\n",
              "        google.colab.kernel.accessAllowed ? 'block' : 'none';\n",
              "\n",
              "      async function convertToInteractive(key) {\n",
              "        const element = document.querySelector('#df-4d9d6405-1e89-4e3f-95bb-2509cae8aede');\n",
              "        const dataTable =\n",
              "          await google.colab.kernel.invokeFunction('convertToInteractive',\n",
              "                                                    [key], {});\n",
              "        if (!dataTable) return;\n",
              "\n",
              "        const docLinkHtml = 'Like what you see? Visit the ' +\n",
              "          '<a target=\"_blank\" href=https://colab.research.google.com/notebooks/data_table.ipynb>data table notebook</a>'\n",
              "          + ' to learn more about interactive tables.';\n",
              "        element.innerHTML = '';\n",
              "        dataTable['output_type'] = 'display_data';\n",
              "        await google.colab.output.renderOutput(dataTable, element);\n",
              "        const docLink = document.createElement('div');\n",
              "        docLink.innerHTML = docLinkHtml;\n",
              "        element.appendChild(docLink);\n",
              "      }\n",
              "    </script>\n",
              "  </div>\n",
              "\n",
              "\n",
              "<div id=\"df-c97fb43d-356f-4961-b4ae-95bfe7a4fd62\">\n",
              "  <button class=\"colab-df-quickchart\" onclick=\"quickchart('df-c97fb43d-356f-4961-b4ae-95bfe7a4fd62')\"\n",
              "            title=\"Suggest charts.\"\n",
              "            style=\"display:none;\">\n",
              "\n",
              "<svg xmlns=\"http://www.w3.org/2000/svg\" height=\"24px\"viewBox=\"0 0 24 24\"\n",
              "     width=\"24px\">\n",
              "    <g>\n",
              "        <path d=\"M19 3H5c-1.1 0-2 .9-2 2v14c0 1.1.9 2 2 2h14c1.1 0 2-.9 2-2V5c0-1.1-.9-2-2-2zM9 17H7v-7h2v7zm4 0h-2V7h2v10zm4 0h-2v-4h2v4z\"/>\n",
              "    </g>\n",
              "</svg>\n",
              "  </button>\n",
              "\n",
              "<style>\n",
              "  .colab-df-quickchart {\n",
              "      --bg-color: #E8F0FE;\n",
              "      --fill-color: #1967D2;\n",
              "      --hover-bg-color: #E2EBFA;\n",
              "      --hover-fill-color: #174EA6;\n",
              "      --disabled-fill-color: #AAA;\n",
              "      --disabled-bg-color: #DDD;\n",
              "  }\n",
              "\n",
              "  [theme=dark] .colab-df-quickchart {\n",
              "      --bg-color: #3B4455;\n",
              "      --fill-color: #D2E3FC;\n",
              "      --hover-bg-color: #434B5C;\n",
              "      --hover-fill-color: #FFFFFF;\n",
              "      --disabled-bg-color: #3B4455;\n",
              "      --disabled-fill-color: #666;\n",
              "  }\n",
              "\n",
              "  .colab-df-quickchart {\n",
              "    background-color: var(--bg-color);\n",
              "    border: none;\n",
              "    border-radius: 50%;\n",
              "    cursor: pointer;\n",
              "    display: none;\n",
              "    fill: var(--fill-color);\n",
              "    height: 32px;\n",
              "    padding: 0;\n",
              "    width: 32px;\n",
              "  }\n",
              "\n",
              "  .colab-df-quickchart:hover {\n",
              "    background-color: var(--hover-bg-color);\n",
              "    box-shadow: 0 1px 2px rgba(60, 64, 67, 0.3), 0 1px 3px 1px rgba(60, 64, 67, 0.15);\n",
              "    fill: var(--button-hover-fill-color);\n",
              "  }\n",
              "\n",
              "  .colab-df-quickchart-complete:disabled,\n",
              "  .colab-df-quickchart-complete:disabled:hover {\n",
              "    background-color: var(--disabled-bg-color);\n",
              "    fill: var(--disabled-fill-color);\n",
              "    box-shadow: none;\n",
              "  }\n",
              "\n",
              "  .colab-df-spinner {\n",
              "    border: 2px solid var(--fill-color);\n",
              "    border-color: transparent;\n",
              "    border-bottom-color: var(--fill-color);\n",
              "    animation:\n",
              "      spin 1s steps(1) infinite;\n",
              "  }\n",
              "\n",
              "  @keyframes spin {\n",
              "    0% {\n",
              "      border-color: transparent;\n",
              "      border-bottom-color: var(--fill-color);\n",
              "      border-left-color: var(--fill-color);\n",
              "    }\n",
              "    20% {\n",
              "      border-color: transparent;\n",
              "      border-left-color: var(--fill-color);\n",
              "      border-top-color: var(--fill-color);\n",
              "    }\n",
              "    30% {\n",
              "      border-color: transparent;\n",
              "      border-left-color: var(--fill-color);\n",
              "      border-top-color: var(--fill-color);\n",
              "      border-right-color: var(--fill-color);\n",
              "    }\n",
              "    40% {\n",
              "      border-color: transparent;\n",
              "      border-right-color: var(--fill-color);\n",
              "      border-top-color: var(--fill-color);\n",
              "    }\n",
              "    60% {\n",
              "      border-color: transparent;\n",
              "      border-right-color: var(--fill-color);\n",
              "    }\n",
              "    80% {\n",
              "      border-color: transparent;\n",
              "      border-right-color: var(--fill-color);\n",
              "      border-bottom-color: var(--fill-color);\n",
              "    }\n",
              "    90% {\n",
              "      border-color: transparent;\n",
              "      border-bottom-color: var(--fill-color);\n",
              "    }\n",
              "  }\n",
              "</style>\n",
              "\n",
              "  <script>\n",
              "    async function quickchart(key) {\n",
              "      const quickchartButtonEl =\n",
              "        document.querySelector('#' + key + ' button');\n",
              "      quickchartButtonEl.disabled = true;  // To prevent multiple clicks.\n",
              "      quickchartButtonEl.classList.add('colab-df-spinner');\n",
              "      try {\n",
              "        const charts = await google.colab.kernel.invokeFunction(\n",
              "            'suggestCharts', [key], {});\n",
              "      } catch (error) {\n",
              "        console.error('Error during call to suggestCharts:', error);\n",
              "      }\n",
              "      quickchartButtonEl.classList.remove('colab-df-spinner');\n",
              "      quickchartButtonEl.classList.add('colab-df-quickchart-complete');\n",
              "    }\n",
              "    (() => {\n",
              "      let quickchartButtonEl =\n",
              "        document.querySelector('#df-c97fb43d-356f-4961-b4ae-95bfe7a4fd62 button');\n",
              "      quickchartButtonEl.style.display =\n",
              "        google.colab.kernel.accessAllowed ? 'block' : 'none';\n",
              "    })();\n",
              "  </script>\n",
              "</div>\n",
              "    </div>\n",
              "  </div>\n"
            ]
          },
          "metadata": {},
          "execution_count": 142
        }
      ]
    },
    {
      "cell_type": "code",
      "source": [
        "df[\"source\"].value_counts()"
      ],
      "metadata": {
        "colab": {
          "base_uri": "https://localhost:8080/"
        },
        "id": "AZipQUOkrJYE",
        "outputId": "99c19605-0cd1-4303-94f7-4c7dfb47e936"
      },
      "execution_count": 143,
      "outputs": [
        {
          "output_type": "execute_result",
          "data": {
            "text/plain": [
              "Google Play    36628\n",
              "App Store       3712\n",
              "Name: source, dtype: int64"
            ]
          },
          "metadata": {},
          "execution_count": 143
        }
      ]
    },
    {
      "cell_type": "code",
      "source": [
        "plt.figure(figsize=(12, 7))\n",
        "sns.countplot(data=df, x='source')\n",
        "plt.xticks(rotation=45)\n",
        "plt.show()"
      ],
      "metadata": {
        "colab": {
          "base_uri": "https://localhost:8080/",
          "height": 673
        },
        "id": "HJGsFxfV3Rer",
        "outputId": "e95f9222-e2d4-4ed8-d6da-44b16e9dce66"
      },
      "execution_count": 144,
      "outputs": [
        {
          "output_type": "display_data",
          "data": {
            "text/plain": [
              "<Figure size 1200x700 with 1 Axes>"
            ],
            "image/png": "[encoded data removed]"
          },
          "metadata": {}
        }
      ]
    },
    {
      "cell_type": "code",
      "source": [
        "df['rating'] = df['rating'].astype('int32')"
      ],
      "metadata": {
        "id": "8UPpAitKCvJQ"
      },
      "execution_count": 145,
      "outputs": []
    },
    {
      "cell_type": "code",
      "source": [
        "df['rating'] = df['rating'].replace([1,2], 'bad')\n",
        "df['rating'] = df['rating'].replace(3, 'neutral')\n",
        "df['rating'] = df['rating'].replace([4,5], 'good')"
      ],
      "metadata": {
        "id": "2Ez_rLpKCw-1"
      },
      "execution_count": 146,
      "outputs": []
    },
    {
      "cell_type": "code",
      "source": [
        "df['rating'].value_counts()"
      ],
      "metadata": {
        "colab": {
          "base_uri": "https://localhost:8080/"
        },
        "id": "ECM5uXt6C2Gs",
        "outputId": "3787650e-3110-4574-8109-5b42a557c7ea"
      },
      "execution_count": 147,
      "outputs": [
        {
          "output_type": "execute_result",
          "data": {
            "text/plain": [
              "good       21954\n",
              "bad        15211\n",
              "neutral     3175\n",
              "Name: rating, dtype: int64"
            ]
          },
          "metadata": {},
          "execution_count": 147
        }
      ]
    },
    {
      "cell_type": "code",
      "source": [
        "# Calculate the counts of each rating category\n",
        "rating_counts = df['rating'].value_counts()\n",
        "\n",
        "# Calculate the percentages\n",
        "total_ratings = rating_counts.sum()\n",
        "percentages = (rating_counts / total_ratings) * 100\n",
        "\n",
        "# Create a countplot\n",
        "plt.figure(figsize=(12, 5))\n",
        "plot = sns.countplot(data=df, x='rating', order=['good', 'neutral', 'bad'], palette='Set1')\n",
        "\n",
        "# Set labels and title\n",
        "plt.xlabel('Rating Category')\n",
        "plt.ylabel('Count')\n",
        "plt.title('Distribution of Ratings')\n",
        "\n",
        "# Show the plot\n",
        "plt.show()"
      ],
      "metadata": {
        "colab": {
          "base_uri": "https://localhost:8080/",
          "height": 487
        },
        "id": "ng-zgf24C6ge",
        "outputId": "56ef501f-aa47-4975-a274-d5afb444e82e"
      },
      "execution_count": 148,
      "outputs": [
        {
          "output_type": "display_data",
          "data": {
            "text/plain": [
              "<Figure size 1200x500 with 1 Axes>"
            ],
            "image/png": "[encoded data removed]"
          },
          "metadata": {}
        }
      ]
    },
    {
      "cell_type": "code",
      "source": [
        "# Group by 'source' and 'emotion' columns to get sentiment counts per source\n",
        "source_sentiment_group = df.groupby(['source', 'rating'])['rating'].count().reset_index(name='count')\n",
        "\n",
        "# Calculate the ascending order of sources based on total review count\n",
        "ascending_order = df['source'].value_counts().index\n",
        "\n",
        "# Create a bar plot for sentiment distribution per source\n",
        "plt.figure(figsize=(12, 7))\n",
        "ax = sns.barplot(x='source', y='count', hue='rating', data=source_sentiment_group, order=ascending_order)\n",
        "plt.xlabel('Source')\n",
        "plt.ylabel('Count')\n",
        "plt.title('Rating Distribution per Source')\n",
        "plt.xticks(rotation=45)\n",
        "plt.show()\n"
      ],
      "metadata": {
        "colab": {
          "base_uri": "https://localhost:8080/",
          "height": 695
        },
        "id": "w3s0uir5GsqG",
        "outputId": "ab30c34d-bbb3-4b26-fb19-d4b687bba970"
      },
      "execution_count": 152,
      "outputs": [
        {
          "output_type": "display_data",
          "data": {
            "text/plain": [
              "<Figure size 1200x700 with 1 Axes>"
            ],
            "image/png": "[encoded data removed]"
          },
          "metadata": {}
        }
      ]
    },
    {
      "cell_type": "markdown",
      "source": [
        "## Data PreProcessing"
      ],
      "metadata": {
        "id": "i0oGKSKw_7NW"
      }
    },
    {
      "cell_type": "markdown",
      "source": [
        ">> Text data often contains special characters and uppercase letters, which can lead to inconsistencies during analysis. Cleaning the text involves removing special characters and converting text to lowercase for consistency."
      ],
      "metadata": {
        "id": "VCdzOiYrJ2yl"
      }
    },
    {
      "cell_type": "code",
      "source": [
        "# Define a function to clean text by removing special characters and converting to lowercase\n",
        "def clean_text(text):\n",
        "    # Remove special characters and numbers, keep only letters\n",
        "    text = re.sub(r'[^a-zA-Z\\s]', '', text)\n",
        "    # Convert text to lowercase\n",
        "    text = text.lower()\n",
        "    return text\n",
        "\n",
        "# Apply the clean_text function to the 'review_description' column\n",
        "df['cleaned_review_description'] = df['review_description'].apply(clean_text)"
      ],
      "metadata": {
        "id": "RhBNjk_v_c5_"
      },
      "execution_count": null,
      "outputs": []
    },
    {
      "cell_type": "markdown",
      "source": [
        ">> Tokenization breaks text into individual words or tokens. It's a necessary step for text analysis, as it allows us to work with individual words."
      ],
      "metadata": {
        "id": "tjO_YcALJ7LO"
      }
    },
    {
      "cell_type": "code",
      "source": [
        "# Define a function for tokenization (splitting text into words)\n",
        "def tokenize_text(text):\n",
        "    return word_tokenize(text)\n",
        "\n",
        "# Apply tokenization to the 'cleaned_review_description' column\n",
        "df['tokens'] = df['cleaned_review_description'].apply(tokenize_text)\n"
      ],
      "metadata": {
        "id": "Ey0z8UdsJQ_K"
      },
      "execution_count": null,
      "outputs": []
    },
    {
      "cell_type": "markdown",
      "source": [
        ">>  Stopwords are common words (e.g., \"the,\" \"and,\" \"is\") that don't usually contribute much to the analysis. Removing them reduces noise in the data."
      ],
      "metadata": {
        "id": "VSszuF5oKMgw"
      }
    },
    {
      "cell_type": "code",
      "source": [
        "# Get a set of English stopwords\n",
        "stop_words = set(stopwords.words('english'))\n",
        "\n",
        "# Define a function to remove stopwords\n",
        "def remove_stopwords(tokens):\n",
        "    return [word for word in tokens if word not in stop_words]\n",
        "\n",
        "# Apply stopword removal to the 'tokens' column\n",
        "df['cleaned_tokens'] = df['tokens'].apply(remove_stopwords)"
      ],
      "metadata": {
        "id": "TxiYb34YJX0M"
      },
      "execution_count": null,
      "outputs": []
    },
    {
      "cell_type": "markdown",
      "source": [
        ">> Lemmatization reduces words to their base or root form. It ensures that words like \"running\" and \"ran\" are treated as the same word (\"run\"), improving the consistency of the data."
      ],
      "metadata": {
        "id": "F2ALmEfMKhKp"
      }
    },
    {
      "cell_type": "code",
      "source": [
        "# Initialize a WordNet Lemmatizer\n",
        "lemmatizer = WordNetLemmatizer()\n",
        "\n",
        "# Define a function for lemmatization\n",
        "def lemmatize_tokens(tokens):\n",
        "    return [lemmatizer.lemmatize(word) for word in tokens]\n",
        "\n",
        "# Apply lemmatization to the 'cleaned_tokens' column\n",
        "df['lemmatized_tokens'] = df['cleaned_tokens'].apply(lemmatize_tokens)"
      ],
      "metadata": {
        "id": "uXINyuy8Jjkz"
      },
      "execution_count": null,
      "outputs": []
    },
    {
      "cell_type": "markdown",
      "source": [
        ">> Text data needs to be converted into numerical form for machine learning models. TF-IDF vectorization converts text data into numerical vectors while capturing the importance of words in the text. It results in a feature matrix that can be used for analysis and modeling."
      ],
      "metadata": {
        "id": "R-vUrrw0KoN0"
      }
    },
    {
      "cell_type": "code",
      "source": [
        "# Initialize a TF-IDF vectorizer with a maximum of 1000 features (adjust as needed)\n",
        "tfidf_vectorizer = TfidfVectorizer(max_features=1000)\n",
        "\n",
        "# Transform the 'lemmatized_tokens' into TF-IDF features\n",
        "tfidf_matrix = tfidf_vectorizer.fit_transform(df['lemmatized_tokens'].apply(lambda x: ' '.join(x)))\n",
        "\n",
        "# Convert the TF-IDF matrix to a DataFrame with feature names\n",
        "tfidf_df = pd.DataFrame(tfidf_matrix.toarray(), columns=tfidf_vectorizer.get_feature_names_out())\n",
        "\n",
        "# Merge the TF-IDF features with the original DataFrame\n",
        "df = pd.concat([df, tfidf_df], axis=1)"
      ],
      "metadata": {
        "id": "8CNqDhdSJqUV"
      },
      "execution_count": null,
      "outputs": []
    },
    {
      "cell_type": "code",
      "source": [
        "# Calculate text lengths (number of words) and add as a new column\n",
        "df['text_length'] = df['cleaned_tokens'].apply(lambda x: len(x) if isinstance(x, list) else 0)\n",
        "\n",
        "# Visualize the distribution of text lengthS\n",
        "import plotly.express as px\n",
        "\n",
        "# Create a histogram of text lengths using Plotly\n",
        "fig = px.histogram(df, x='text_length', nbins=20, labels={'text_length': 'Text Length (Number of Words)'})\n",
        "fig.update_layout(\n",
        "    title='Distribution of Text Lengths',\n",
        "    xaxis_title='Text Length (Number of Words)',\n",
        "    yaxis_title='Frequency'\n",
        ")\n",
        "\n",
        "# Show the Plotly figure\n",
        "fig.show()"
      ],
      "metadata": {
        "id": "vYxHyJxNNEGo"
      },
      "execution_count": null,
      "outputs": []
    },
    {
      "cell_type": "markdown",
      "source": [
        "> Named Entity Recognition (NER):\n",
        "\n",
        "Implement Named Entity Recognition to identify and extract entities (e.g., names of places, organizations, people) from the reviews. This can provide insights into what entities are frequently mentioned in the reviews."
      ],
      "metadata": {
        "id": "mXdpYTiAR-P6"
      }
    },
    {
      "cell_type": "code",
      "source": [
        "import spacy\n",
        "\n",
        "# Load the spaCy NER model\n",
        "nlp = spacy.load('en_core_web_sm')\n",
        "\n",
        "# Define a function to perform NER on text\n",
        "def extract_entities(text):\n",
        "    doc = nlp(text)\n",
        "    return [(ent.text, ent.label_) for ent in doc.ents]\n",
        "\n",
        "# Apply NER to a sample review\n",
        "sample_review = df['review_description'].iloc[0]\n",
        "entities = extract_entities(sample_review)\n",
        "print(entities)"
      ],
      "metadata": {
        "id": "0eqymmXRNFWR"
      },
      "execution_count": null,
      "outputs": []
    },
    {
      "cell_type": "markdown",
      "source": [
        "> Exploring Bi-grams and Tri-grams:\n",
        "\n",
        "Analyze and visualize the most common bi-grams (two-word combinations) and tri-grams (three-word combinations) in the reviews. This can provide insights into phrases that are frequently used."
      ],
      "metadata": {
        "id": "-Y1IBaVmSBbz"
      }
    },
    {
      "cell_type": "code",
      "source": [
        "from sklearn.feature_extraction.text import CountVectorizer\n",
        "import plotly.express as px\n",
        "\n",
        "# Replace NaN values in the 'cleaned_review_description' column with empty strings\n",
        "df['cleaned_review_description'].fillna('', inplace=True)\n",
        "\n",
        "# Initialize a CountVectorizer for bi-grams and tri-grams\n",
        "bi_tri_gram_vectorizer = CountVectorizer(ngram_range=(2, 3), max_features=20)\n",
        "\n",
        "# Fit and transform the text data to extract bi-grams and tri-grams\n",
        "bi_tri_grams = bi_tri_gram_vectorizer.fit_transform(df['cleaned_review_description'])\n",
        "\n",
        "# Get feature names (bi-grams and tri-grams)\n",
        "feature_names = bi_tri_gram_vectorizer.get_feature_names_out()\n",
        "\n",
        "# Calculate the sum of frequencies for each bi-gram and tri-gram\n",
        "bi_tri_gram_frequencies = bi_tri_grams.sum(axis=0).tolist()[0]\n",
        "\n",
        "# Create a DataFrame for plotting\n",
        "bi_tri_gram_df = pd.DataFrame({'Feature Names': feature_names, 'Frequency': bi_tri_gram_frequencies})\n",
        "\n",
        "# Sort the DataFrame by frequency in descending order\n",
        "bi_tri_gram_df = bi_tri_gram_df.sort_values(by='Frequency', ascending=False)\n",
        "\n",
        "# Create a bar chart using Plotly\n",
        "fig = px.bar(bi_tri_gram_df, x='Feature Names', y='Frequency',\n",
        "             labels={'Feature Names': 'Bi-grams and Tri-grams', 'Frequency': 'Frequency'},\n",
        "             title='Top Bi-grams and Tri-grams in Reviews', height=400)\n",
        "\n",
        "fig.update_xaxes(tickangle=45)  # Rotate x-axis labels for better readability\n",
        "\n",
        "# Show the Plotly figure\n",
        "fig.show()"
      ],
      "metadata": {
        "id": "m7nWdwhVOO_i"
      },
      "execution_count": null,
      "outputs": []
    },
    {
      "cell_type": "markdown",
      "source": [
        "> Sentiment Lexicon Analysis:\n",
        "\n",
        "Explore sentiment lexicons (lists of words with associated sentiment scores) and analyze how the sentiment scores of individual words contribute to the overall sentiment of reviews."
      ],
      "metadata": {
        "id": "PQqBTeH5SHkx"
      }
    },
    {
      "cell_type": "code",
      "source": [
        "# Calculate the overall sentiment score of each review based on the lexicon\n",
        "df['sentiment_score'] = df['cleaned_tokens'].apply(lambda tokens: sum(sentiment_lexicon.get(word, 0) for word in tokens)\n",
        "                                                  if isinstance(tokens, list) else np.nan)\n",
        "\n",
        "# Visualize the distribution of sentiment scores\n",
        "plt.figure(figsize=(8, 5))\n",
        "sns.histplot(data=df, x='sentiment_score', bins=20)\n",
        "plt.xlabel('Sentiment Score')\n",
        "plt.ylabel('Frequency')\n",
        "plt.title('Distribution of Sentiment Scores')\n",
        "plt.show()\n"
      ],
      "metadata": {
        "id": "9gBqw-frOSqG"
      },
      "execution_count": null,
      "outputs": []
    },
    {
      "cell_type": "code",
      "source": [],
      "metadata": {
        "id": "_txBpmcYOaUV"
      },
      "execution_count": null,
      "outputs": []
    }
  ]
}